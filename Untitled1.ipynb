{
  "nbformat": 4,
  "nbformat_minor": 0,
  "metadata": {
    "colab": {
      "provenance": [],
      "authorship_tag": "ABX9TyOrp+uc3KWnOkh5rgo+IqdX",
      "include_colab_link": true
    },
    "kernelspec": {
      "name": "python3",
      "display_name": "Python 3"
    },
    "language_info": {
      "name": "python"
    }
  },
  "cells": [
    {
      "cell_type": "markdown",
      "metadata": {
        "id": "view-in-github",
        "colab_type": "text"
      },
      "source": [
        "<a href=\"https://colab.research.google.com/github/anseongmin02/python/blob/main/Untitled1.ipynb\" target=\"_parent\"><img src=\"https://colab.research.google.com/assets/colab-badge.svg\" alt=\"Open In Colab\"/></a>"
      ]
    },
    {
      "cell_type": "code",
      "source": [
        "### 202101982 안성민\n",
        "\n",
        "n = int(input(\"숫자를 입력하여 주세요.:    \"))\n",
        "if n > 30:\n",
        "  print(\"너무 많습니다.\")\n",
        "else:\n",
        "  p = 1\n",
        "  q = 1\n",
        "  while n >= p:\n",
        "    while p >= q:\n",
        "      if p == q:\n",
        "        print(q)\n",
        "      else:\n",
        "        print(\"*\", end='')\n",
        "      q = q + 1\n",
        "    q = 1\n",
        "    p = p + 1"
      ],
      "metadata": {
        "colab": {
          "base_uri": "https://localhost:8080/"
        },
        "id": "1jMJFZeYN9e5",
        "outputId": "bf0a9391-3351-4a41-c815-562266484a4e"
      },
      "execution_count": null,
      "outputs": [
        {
          "output_type": "stream",
          "name": "stdout",
          "text": [
            "숫자를 입력하여 주세요.:    6\n",
            "1\n",
            "*2\n",
            "**3\n",
            "***4\n",
            "****5\n",
            "*****6\n"
          ]
        }
      ]
    },
    {
      "cell_type": "code",
      "source": [
        "### 202101982 안성민\n",
        "\n",
        "\n",
        "n = []\n",
        "n.append(int(input(\"자연수 한 개를 입력하세요: \"))) \n",
        "for k in range(1,100):\n",
        "  num = int(input(\"계속 입력을 원하시면, 자연수 한 개를 입력하시고, 아니라면 0을 입력하세요: \"))\n",
        "  if num == 0:\n",
        "    break\n",
        "  else:\n",
        "    n.append(num)\n",
        "\n",
        "    if k == 99:\n",
        "       print(\"이제 그만하세요. 벌써 100개를 입력했어요.\")\n",
        "\n",
        "for i in range(len(n)):\n",
        "  for j in range(i + 1, len(n)):\n",
        "    v = i\n",
        "    if n[j] > n[v]:\n",
        "      n[j], n[v] = n[v], n[j]\n",
        "\n",
        "print(\"당신이 입력한 숫자는 큰 것부터 순서대로 말한다면 아래와 같습니다.\")\n",
        "print(n)"
      ],
      "metadata": {
        "id": "A9zlYbuuxjEK"
      },
      "execution_count": null,
      "outputs": []
    }
  ]
}